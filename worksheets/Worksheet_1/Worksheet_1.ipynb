{
 "cells": [
  {
   "cell_type": "code",
   "execution_count": 85,
   "id": "bba68e5f",
   "metadata": {
    "deletable": false,
    "editable": false
   },
   "outputs": [],
   "source": [
    "# Initialize Otter\n",
    "import otter\n",
    "grader = otter.Notebook(\"Worksheet_1.ipynb\")"
   ]
  },
  {
   "cell_type": "markdown",
   "id": "1d5132b7-52ce-43c7-85c3-4029dc3e74c0",
   "metadata": {
    "tags": []
   },
   "source": [
    "# Worksheet 1: Terminology and decision trees"
   ]
  },
  {
   "cell_type": "markdown",
   "id": "fcb8ed3b-01fa-48bb-ba67-fabf7e7b15c8",
   "metadata": {
    "tags": []
   },
   "source": [
    "## Imports"
   ]
  },
  {
   "cell_type": "code",
   "execution_count": 86,
   "id": "02ac3f62-9694-4354-bc77-81a397d1a4a4",
   "metadata": {},
   "outputs": [],
   "source": [
    "# Load necessary libraries\n",
    "from sklearn.tree import DecisionTreeClassifier, DecisionTreeRegressor, plot_tree\n",
    "import matplotlib.pyplot as plt\n",
    "import re\n",
    "import sys\n",
    "from hashlib import sha1\n",
    "from IPython.display import Image\n",
    "import numpy as np\n",
    "import pandas as pd\n",
    "from sklearn.dummy import DummyClassifier"
   ]
  },
  {
   "cell_type": "markdown",
   "id": "2b3ab773-d3e4-4be7-a44f-65494680652d",
   "metadata": {},
   "source": [
    "<br><br>"
   ]
  },
  {
   "cell_type": "markdown",
   "id": "0c2869d7-7906-4294-979a-51e5cb1914a7",
   "metadata": {},
   "source": [
    "## Instructions\n",
    "\n",
    "This worksheet is intended to help you revise and reinforce what you've learned in the lecture. You are welcome to broadly discuss questions with your classmates but your final answers must be your own. **We are not allowing group submission for worksheets.** The worksheets are fully autograded using the Gradescope's autograder tool, `otter grader`. If you have successfully installed the course environment, you should have `otter grader` in `cpsc330` environment. If not, follow the instructions below.  \n",
    "\n",
    "- Go to the command line/terminal.\n",
    "- Activate the course conda environment and install `otter-grader` using the following command.\n",
    "\n",
    "    ```\n",
    "    conda activate cpsc330\n",
    "    pip install otter-grader\n",
    "    ```\n",
    "\n",
    "The cell at the top of the notebook will throw an error if you do not install `otter-grader`. Once you are done with the worksheet, follow the instructions below before the submission. \n",
    "\n",
    "1. Run all cells in your notebook to make sure there are no errors by doing `Kernel -> Restart Kernel and Clear All Outputs` and then `Run -> Run All Cells`. \n",
    "2. Upload the worksheet using Gradescope's drag and drop tool. Make sure to access Gradescope via [Canvas](https://canvas.ubc.ca/courses/123439). Check out this [Gradescope Student Guide](https://lthub.ubc.ca/guides/gradescope-student-guide/) if you need help with Gradescope submission. \n",
    "3. Make sure that the plots and output are rendered properly in your submitted file."
   ]
  },
  {
   "cell_type": "markdown",
   "id": "16e684e6-4c60-4879-887e-bb5ee91d06b1",
   "metadata": {},
   "source": [
    "<br>\n",
    "<br>"
   ]
  },
  {
   "cell_type": "markdown",
   "id": "82e2781f-850a-4b77-8760-b516de18fe41",
   "metadata": {},
   "source": [
    "## Exercise 1"
   ]
  },
  {
   "cell_type": "markdown",
   "id": "fc12078f-ab23-4fe8-b667-4937274125dc",
   "metadata": {
    "deletable": false,
    "editable": false,
    "tags": []
   },
   "source": [
    "### 1.1 Terminology\n",
    "rubric={autograde}\n",
    "\n",
    "**Your Task:**\n",
    "<br>Complete each of the following sentences using the provided machine learning terminologies for the list below. Remember, each term can only be used once!\n",
    "\n",
    "**List of Terms (in no particular order):**\n",
    "\n",
    "    a) hyperparameters\n",
    "    b) training\n",
    "    c) tree depth\n",
    "    d) parameters\n",
    "    e) example/data point\n",
    "    f) features\n",
    "    g) target\n",
    "    h) root node\n",
    "    i) branch\n",
    "    j) leaf node\n",
    "    \n",
    "\n",
    "1. When working with data, each row or instance, containing both feature values and the corresponding target, is called an  ________.\n",
    "\n",
    "2. Before delving into modeling, we must specify certain settings that influence the learning process; these are known as ________.\n",
    "\n",
    "3. After training my model, it acquires values such as which features to focus on and the threshold for splitting them; these are termed _________.\n",
    "\n",
    "4. In decision trees, the starting point, the initial question we ask, is referred to as the ________.\n",
    "\n",
    "5. The total number of steps or jumps from the initial question all the way to the final prediction in a decision tree is known as the ________."
   ]
  },
  {
   "cell_type": "markdown",
   "id": "b30c0a69-2a77-40a4-bdb6-2469c1a71c73",
   "metadata": {
    "deletable": false,
    "editable": false,
    "tags": []
   },
   "source": [
    "<div class=\"alert alert-warning\">\n",
    "\n",
    "Solution_1.1\n",
    "    \n",
    "</div>\n",
    "\n",
    "_Points:_ 3"
   ]
  },
  {
   "cell_type": "code",
   "execution_count": 87,
   "id": "2e88489e-3267-4c7a-ba3f-92801c82cda0",
   "metadata": {
    "tags": []
   },
   "outputs": [],
   "source": [
    "# format your answer like this: terminology = ['x','x','x','x','x']\n",
    "terminology = ['e', 'a', 'd', 'h', 'c']\n"
   ]
  },
  {
   "cell_type": "code",
   "execution_count": 88,
   "id": "7c22ecf1",
   "metadata": {
    "deletable": false,
    "editable": false
   },
   "outputs": [
    {
     "data": {
      "text/html": [
       "<p><strong><pre style='display: inline;'>q1.1</pre></strong> passed! 💯</p>"
      ],
      "text/plain": [
       "q1.1 results: All test cases passed!"
      ]
     },
     "execution_count": 88,
     "metadata": {},
     "output_type": "execute_result"
    }
   ],
   "source": [
    "grader.check(\"q1.1\")"
   ]
  },
  {
   "cell_type": "markdown",
   "id": "5659a4be-df54-43ff-8719-01d4efc2a1c3",
   "metadata": {},
   "source": [
    "<br><br><br><br>"
   ]
  },
  {
   "cell_type": "markdown",
   "id": "d1113e32-8328-4f0b-a593-903b82f4392d",
   "metadata": {
    "tags": []
   },
   "source": [
    "## Exercise 2: Decision trees with a toy dataset\n",
    "\n",
    "Suppose you have three different job offers with comparable salaries and job descriptions. You want to decide which one to accept, and you want to make this decision based on which job is likely to make you happy. Being a very systematic person, you come up with three features associated with the offers, which are important for your happiness: whether the colleagues are supportive, whether there is work-hour flexibility, and whether the company is a start-up or not. So the `X` of your offer data looks as follows:"
   ]
  },
  {
   "cell_type": "markdown",
   "id": "80ad6cd2-6f7e-436a-a211-b4c1e0b53828",
   "metadata": {
    "tags": []
   },
   "source": [
    "#### Defining the dataset"
   ]
  },
  {
   "cell_type": "code",
   "execution_count": 89,
   "id": "7b1aef0a-a43a-4cc4-99b6-78fa2b4cbec0",
   "metadata": {},
   "outputs": [
    {
     "data": {
      "text/html": [
       "<div>\n",
       "<style scoped>\n",
       "    .dataframe tbody tr th:only-of-type {\n",
       "        vertical-align: middle;\n",
       "    }\n",
       "\n",
       "    .dataframe tbody tr th {\n",
       "        vertical-align: top;\n",
       "    }\n",
       "\n",
       "    .dataframe thead th {\n",
       "        text-align: right;\n",
       "    }\n",
       "</style>\n",
       "<table border=\"1\" class=\"dataframe\">\n",
       "  <thead>\n",
       "    <tr style=\"text-align: right;\">\n",
       "      <th></th>\n",
       "      <th>supportive_colleagues</th>\n",
       "      <th>work_hour_flexibility</th>\n",
       "      <th>start_up</th>\n",
       "    </tr>\n",
       "  </thead>\n",
       "  <tbody>\n",
       "    <tr>\n",
       "      <th>0</th>\n",
       "      <td>1</td>\n",
       "      <td>0</td>\n",
       "      <td>0</td>\n",
       "    </tr>\n",
       "    <tr>\n",
       "      <th>1</th>\n",
       "      <td>0</td>\n",
       "      <td>0</td>\n",
       "      <td>1</td>\n",
       "    </tr>\n",
       "    <tr>\n",
       "      <th>2</th>\n",
       "      <td>0</td>\n",
       "      <td>1</td>\n",
       "      <td>1</td>\n",
       "    </tr>\n",
       "    <tr>\n",
       "      <th>3</th>\n",
       "      <td>1</td>\n",
       "      <td>1</td>\n",
       "      <td>1</td>\n",
       "    </tr>\n",
       "  </tbody>\n",
       "</table>\n",
       "</div>"
      ],
      "text/plain": [
       "   supportive_colleagues  work_hour_flexibility  start_up\n",
       "0                      1                      0         0\n",
       "1                      0                      0         1\n",
       "2                      0                      1         1\n",
       "3                      1                      1         1"
      ]
     },
     "execution_count": 89,
     "metadata": {},
     "output_type": "execute_result"
    }
   ],
   "source": [
    "offer_data = {\n",
    "    # Features\n",
    "    \"supportive_colleagues\": [1, 0, 0, 1],\n",
    "    \"work_hour_flexibility\": [0, 0, 1, 1],\n",
    "    \"start_up\": [0, 1, 1, 1],    \n",
    "}\n",
    "\n",
    "offer_df = pd.DataFrame(offer_data)\n",
    "offer_df"
   ]
  },
  {
   "cell_type": "markdown",
   "id": "e599467e-7cc3-43ef-a2a9-379b12e2ba23",
   "metadata": {},
   "source": [
    "Your goal is to get predictions for these rows. In other words, for each row, you want to predict whether that job would make you <b>happy</b> or <b>unhappy</b>.\n",
    "\n",
    "So you ask the following questions to some of your friends (who you think have similar notions of happiness) regarding their jobs:\n",
    "\n",
    "    1. Do you have supportive colleagues? (1 for 'yes' and 0 for 'no')\n",
    "    2. Do you have flexible work hours? (1 for 'yes' and 0 for 'no')\n",
    "    3. Do you work for a start-up? (1 for 'start up' and 0 for 'non start up')\n",
    "    4. Are you happy in your job? (happy or unhappy)\n",
    "\n",
    "Suppose you get the following data from this toy survey. You decide to train a machine learning model using this toy survey data and use this model to predict which job from <b>offer_df</b> is likely to make you happy.\n"
   ]
  },
  {
   "cell_type": "code",
   "execution_count": 90,
   "id": "50053ace-e16c-4b56-b714-47e03d33127d",
   "metadata": {},
   "outputs": [
    {
     "data": {
      "text/html": [
       "<div>\n",
       "<style scoped>\n",
       "    .dataframe tbody tr th:only-of-type {\n",
       "        vertical-align: middle;\n",
       "    }\n",
       "\n",
       "    .dataframe tbody tr th {\n",
       "        vertical-align: top;\n",
       "    }\n",
       "\n",
       "    .dataframe thead th {\n",
       "        text-align: right;\n",
       "    }\n",
       "</style>\n",
       "<table border=\"1\" class=\"dataframe\">\n",
       "  <thead>\n",
       "    <tr style=\"text-align: right;\">\n",
       "      <th></th>\n",
       "      <th>supportive_colleagues</th>\n",
       "      <th>work_hour_flexibility</th>\n",
       "      <th>start_up</th>\n",
       "      <th>target</th>\n",
       "    </tr>\n",
       "  </thead>\n",
       "  <tbody>\n",
       "    <tr>\n",
       "      <th>0</th>\n",
       "      <td>1</td>\n",
       "      <td>1</td>\n",
       "      <td>1</td>\n",
       "      <td>happy</td>\n",
       "    </tr>\n",
       "    <tr>\n",
       "      <th>1</th>\n",
       "      <td>1</td>\n",
       "      <td>1</td>\n",
       "      <td>0</td>\n",
       "      <td>happy</td>\n",
       "    </tr>\n",
       "    <tr>\n",
       "      <th>2</th>\n",
       "      <td>1</td>\n",
       "      <td>0</td>\n",
       "      <td>1</td>\n",
       "      <td>happy</td>\n",
       "    </tr>\n",
       "    <tr>\n",
       "      <th>3</th>\n",
       "      <td>0</td>\n",
       "      <td>1</td>\n",
       "      <td>0</td>\n",
       "      <td>unhappy</td>\n",
       "    </tr>\n",
       "    <tr>\n",
       "      <th>4</th>\n",
       "      <td>0</td>\n",
       "      <td>1</td>\n",
       "      <td>1</td>\n",
       "      <td>unhappy</td>\n",
       "    </tr>\n",
       "    <tr>\n",
       "      <th>5</th>\n",
       "      <td>1</td>\n",
       "      <td>0</td>\n",
       "      <td>0</td>\n",
       "      <td>happy</td>\n",
       "    </tr>\n",
       "    <tr>\n",
       "      <th>6</th>\n",
       "      <td>1</td>\n",
       "      <td>1</td>\n",
       "      <td>0</td>\n",
       "      <td>happy</td>\n",
       "    </tr>\n",
       "    <tr>\n",
       "      <th>7</th>\n",
       "      <td>0</td>\n",
       "      <td>0</td>\n",
       "      <td>1</td>\n",
       "      <td>unhappy</td>\n",
       "    </tr>\n",
       "    <tr>\n",
       "      <th>8</th>\n",
       "      <td>1</td>\n",
       "      <td>0</td>\n",
       "      <td>1</td>\n",
       "      <td>unhappy</td>\n",
       "    </tr>\n",
       "    <tr>\n",
       "      <th>9</th>\n",
       "      <td>0</td>\n",
       "      <td>0</td>\n",
       "      <td>0</td>\n",
       "      <td>unhappy</td>\n",
       "    </tr>\n",
       "  </tbody>\n",
       "</table>\n",
       "</div>"
      ],
      "text/plain": [
       "   supportive_colleagues  work_hour_flexibility  start_up   target\n",
       "0                      1                      1         1    happy\n",
       "1                      1                      1         0    happy\n",
       "2                      1                      0         1    happy\n",
       "3                      0                      1         0  unhappy\n",
       "4                      0                      1         1  unhappy\n",
       "5                      1                      0         0    happy\n",
       "6                      1                      1         0    happy\n",
       "7                      0                      0         1  unhappy\n",
       "8                      1                      0         1  unhappy\n",
       "9                      0                      0         0  unhappy"
      ]
     },
     "execution_count": 90,
     "metadata": {},
     "output_type": "execute_result"
    }
   ],
   "source": [
    "import pandas as pd\n",
    "\n",
    "happiness_data = {\n",
    "    # Features\n",
    "    \"supportive_colleagues\": [1, 1, 1, 0, 0, 1, 1, 0, 1, 0],\n",
    "    \"work_hour_flexibility\": [1, 1, 0, 1, 1, 0, 1, 0, 0, 0],\n",
    "    \"start_up\": [1, 0, 1, 0, 1, 0, 0, 1, 1, 0],\n",
    "    # Target\n",
    "    \"target\": [\n",
    "        \"happy\",\n",
    "        \"happy\",\n",
    "        \"happy\",\n",
    "        \"unhappy\",\n",
    "        \"unhappy\",\n",
    "        \"happy\",\n",
    "        \"happy\",\n",
    "        \"unhappy\",\n",
    "        \"unhappy\",\n",
    "        \"unhappy\",\n",
    "    ],\n",
    "}\n",
    "\n",
    "train_df = pd.DataFrame(happiness_data)\n",
    "train_df"
   ]
  },
  {
   "cell_type": "markdown",
   "id": "4af8d296-1dfb-42f6-8ba1-26d901976a06",
   "metadata": {
    "deletable": false,
    "editable": false,
    "tags": []
   },
   "source": [
    "### 2.1 Decision stump by hand\n",
    "rubric={autograde}\n",
    "    \n",
    "<b>Your tasks:</b>\n",
    "\n",
    "With this toy dataset, build a decision stump (decision tree with only 1 split) by hand, splitting on the condition supportive_colleagues <= 0.5. What training accuracy would you get with this decision stump? Save the accuracy as a decimal in an object named <b>supportive_colleagues_acc</b>.\n",
    "\n",
    "    You do not have to show any calculations or code.\n"
   ]
  },
  {
   "cell_type": "markdown",
   "id": "0fa41cd2-67af-4022-b05b-270d2066284c",
   "metadata": {
    "deletable": false,
    "editable": false,
    "tags": []
   },
   "source": [
    "<div class=\"alert alert-warning\">\n",
    "\n",
    "Solution_2.1\n",
    "    \n",
    "</div>\n",
    "\n",
    "_Points:_ 1"
   ]
  },
  {
   "cell_type": "code",
   "execution_count": 91,
   "id": "fa707f3f-735a-4f3c-b829-9d5b12d9a0bc",
   "metadata": {
    "scrolled": true,
    "tags": []
   },
   "outputs": [
    {
     "data": {
      "text/plain": [
       "Ellipsis"
      ]
     },
     "execution_count": 91,
     "metadata": {},
     "output_type": "execute_result"
    }
   ],
   "source": [
    "supportive_colleagues_acc = 9/10\n",
    "\n",
    "..."
   ]
  },
  {
   "cell_type": "code",
   "execution_count": 92,
   "id": "26a35350",
   "metadata": {
    "deletable": false,
    "editable": false
   },
   "outputs": [
    {
     "name": "stderr",
     "output_type": "stream",
     "text": [
      "/Users/yilianzhao/opt/anaconda3/envs/cpsc330/lib/python3.10/site-packages/nbformat/__init__.py:93: MissingIDFieldWarning: Code cell is missing an id field, this will become a hard error in future nbformat versions. You may want to use `normalize()` on your notebooks before validations (available since nbformat 5.1.4). Previous versions of nbformat are fixing this issue transparently, and will stop doing so in the future.\n",
      "  validate(nb)\n"
     ]
    },
    {
     "data": {
      "text/html": [
       "<p><strong><pre style='display: inline;'>q2.1</pre></strong> passed! 🍀</p>"
      ],
      "text/plain": [
       "q2.1 results: All test cases passed!"
      ]
     },
     "execution_count": 92,
     "metadata": {},
     "output_type": "execute_result"
    }
   ],
   "source": [
    "grader.check(\"q2.1\")"
   ]
  },
  {
   "cell_type": "markdown",
   "id": "f728a65c-ed01-4b99-9400-7dca629e7771",
   "metadata": {},
   "source": [
    "<br>\n",
    "<br>"
   ]
  },
  {
   "cell_type": "markdown",
   "id": "97e706f0-b570-4307-b362-1f10c48ef6f7",
   "metadata": {
    "deletable": false,
    "editable": false,
    "tags": []
   },
   "source": [
    "### 2.2 Separating features and target\n",
    "rubric={autograde}\n",
    "\n",
    "<br>Recall that in `scikit-learn`, before building a classifier, we need to separate features and target.\n",
    "\n",
    "<b>Your task:</b>\n",
    "<br>Separate features and target from `train_df` and save them in `X_train_toy` and `y_train_toy`, respectively."
   ]
  },
  {
   "cell_type": "markdown",
   "id": "506bbc4c-2511-44e4-9e41-da250a067881",
   "metadata": {
    "deletable": false,
    "editable": false,
    "tags": []
   },
   "source": [
    "<div class=\"alert alert-warning\">\n",
    "\n",
    "Solution_2.2\n",
    "    \n",
    "</div>\n",
    "\n",
    "_Points:_ 1"
   ]
  },
  {
   "cell_type": "code",
   "execution_count": 93,
   "id": "fd78e463-0c08-4d10-a20e-3c39b649e66c",
   "metadata": {
    "scrolled": true,
    "tags": []
   },
   "outputs": [
    {
     "data": {
      "text/plain": [
       "Ellipsis"
      ]
     },
     "execution_count": 93,
     "metadata": {},
     "output_type": "execute_result"
    }
   ],
   "source": [
    "X_train_toy = train_df.drop(columns = ['target'])\n",
    "y_train_toy = train_df['target']\n",
    "\n",
    "..."
   ]
  },
  {
   "cell_type": "code",
   "execution_count": 94,
   "id": "b4435776",
   "metadata": {
    "deletable": false,
    "editable": false
   },
   "outputs": [
    {
     "name": "stderr",
     "output_type": "stream",
     "text": [
      "/Users/yilianzhao/opt/anaconda3/envs/cpsc330/lib/python3.10/site-packages/nbformat/__init__.py:93: MissingIDFieldWarning: Code cell is missing an id field, this will become a hard error in future nbformat versions. You may want to use `normalize()` on your notebooks before validations (available since nbformat 5.1.4). Previous versions of nbformat are fixing this issue transparently, and will stop doing so in the future.\n",
      "  validate(nb)\n"
     ]
    },
    {
     "data": {
      "text/html": [
       "<p><strong><pre style='display: inline;'>q2.2</pre></strong> passed! 🚀</p>"
      ],
      "text/plain": [
       "q2.2 results: All test cases passed!"
      ]
     },
     "execution_count": 94,
     "metadata": {},
     "output_type": "execute_result"
    }
   ],
   "source": [
    "grader.check(\"q2.2\")"
   ]
  },
  {
   "cell_type": "markdown",
   "id": "0f6c1d7a-618e-40ca-9067-5cc4ce5159b7",
   "metadata": {},
   "source": [
    "<br><br>"
   ]
  },
  {
   "cell_type": "markdown",
   "id": "7815fc0a-bdde-4d94-a346-b6a983e31138",
   "metadata": {
    "deletable": false,
    "editable": false,
    "tags": []
   },
   "source": [
    "### 2.3 Creating a decision tree classifier object\n",
    "rubric={autograde}\n",
    "\n",
    "<b>Your tasks:</b>\n",
    "<br>Create a `DecisionTreeClassifier` object with `random_state=16` and store it in a variable called `toy_tree`."
   ]
  },
  {
   "cell_type": "markdown",
   "id": "f93e727c-d6e4-4ce1-947d-0b97fb63eea2",
   "metadata": {
    "deletable": false,
    "editable": false,
    "tags": []
   },
   "source": [
    "<div class=\"alert alert-warning\">\n",
    "\n",
    "Solution_2.3\n",
    "    \n",
    "</div>\n",
    "\n",
    "_Points:_ 1"
   ]
  },
  {
   "cell_type": "code",
   "execution_count": 95,
   "id": "a2380ec5-3ba5-4e8e-9392-0ce695da07ea",
   "metadata": {
    "scrolled": true,
    "tags": []
   },
   "outputs": [
    {
     "data": {
      "text/plain": [
       "Ellipsis"
      ]
     },
     "execution_count": 95,
     "metadata": {},
     "output_type": "execute_result"
    }
   ],
   "source": [
    "toy_tree = DecisionTreeClassifier(\n",
    "    random_state= 16\n",
    ")\n",
    "\n",
    "..."
   ]
  },
  {
   "cell_type": "code",
   "execution_count": 96,
   "id": "95309891",
   "metadata": {
    "deletable": false,
    "editable": false
   },
   "outputs": [
    {
     "data": {
      "text/html": [
       "<p><strong><pre style='display: inline;'>q2.3</pre></strong> passed! 💯</p>"
      ],
      "text/plain": [
       "q2.3 results: All test cases passed!"
      ]
     },
     "execution_count": 96,
     "metadata": {},
     "output_type": "execute_result"
    }
   ],
   "source": [
    "grader.check(\"q2.3\")"
   ]
  },
  {
   "cell_type": "markdown",
   "id": "02c0932f-a2a4-4804-917c-12c60fcbf571",
   "metadata": {},
   "source": [
    "<br><br>"
   ]
  },
  {
   "cell_type": "markdown",
   "id": "37dea4f7-2573-48ce-93b5-d7f5f2066e42",
   "metadata": {
    "deletable": false,
    "editable": false,
    "tags": []
   },
   "source": [
    "### 2.4 `fit` the decision tree classifier\n",
    "rubric={autograde}\n",
    "\n",
    "<b>Your tasks:</b>\n",
    "<br>Now train a decision tree model by calling fit on `toy_tree` with `X_train_toy` and `y_train_toy` created above."
   ]
  },
  {
   "cell_type": "markdown",
   "id": "e516ad1e-0352-405b-8179-121d7a8efbf1",
   "metadata": {
    "deletable": false,
    "editable": false
   },
   "source": [
    "<div class=\"alert alert-warning\">\n",
    "\n",
    "Solution_2.4\n",
    "    \n",
    "</div>\n",
    "\n",
    "_Points:_ 1"
   ]
  },
  {
   "cell_type": "code",
   "execution_count": 97,
   "id": "483bb10d-4c66-490c-a44d-910fe73b5a66",
   "metadata": {
    "scrolled": true,
    "tags": []
   },
   "outputs": [
    {
     "data": {
      "text/html": [
       "<style>#sk-container-id-3 {color: black;}#sk-container-id-3 pre{padding: 0;}#sk-container-id-3 div.sk-toggleable {background-color: white;}#sk-container-id-3 label.sk-toggleable__label {cursor: pointer;display: block;width: 100%;margin-bottom: 0;padding: 0.3em;box-sizing: border-box;text-align: center;}#sk-container-id-3 label.sk-toggleable__label-arrow:before {content: \"▸\";float: left;margin-right: 0.25em;color: #696969;}#sk-container-id-3 label.sk-toggleable__label-arrow:hover:before {color: black;}#sk-container-id-3 div.sk-estimator:hover label.sk-toggleable__label-arrow:before {color: black;}#sk-container-id-3 div.sk-toggleable__content {max-height: 0;max-width: 0;overflow: hidden;text-align: left;background-color: #f0f8ff;}#sk-container-id-3 div.sk-toggleable__content pre {margin: 0.2em;color: black;border-radius: 0.25em;background-color: #f0f8ff;}#sk-container-id-3 input.sk-toggleable__control:checked~div.sk-toggleable__content {max-height: 200px;max-width: 100%;overflow: auto;}#sk-container-id-3 input.sk-toggleable__control:checked~label.sk-toggleable__label-arrow:before {content: \"▾\";}#sk-container-id-3 div.sk-estimator input.sk-toggleable__control:checked~label.sk-toggleable__label {background-color: #d4ebff;}#sk-container-id-3 div.sk-label input.sk-toggleable__control:checked~label.sk-toggleable__label {background-color: #d4ebff;}#sk-container-id-3 input.sk-hidden--visually {border: 0;clip: rect(1px 1px 1px 1px);clip: rect(1px, 1px, 1px, 1px);height: 1px;margin: -1px;overflow: hidden;padding: 0;position: absolute;width: 1px;}#sk-container-id-3 div.sk-estimator {font-family: monospace;background-color: #f0f8ff;border: 1px dotted black;border-radius: 0.25em;box-sizing: border-box;margin-bottom: 0.5em;}#sk-container-id-3 div.sk-estimator:hover {background-color: #d4ebff;}#sk-container-id-3 div.sk-parallel-item::after {content: \"\";width: 100%;border-bottom: 1px solid gray;flex-grow: 1;}#sk-container-id-3 div.sk-label:hover label.sk-toggleable__label {background-color: #d4ebff;}#sk-container-id-3 div.sk-serial::before {content: \"\";position: absolute;border-left: 1px solid gray;box-sizing: border-box;top: 0;bottom: 0;left: 50%;z-index: 0;}#sk-container-id-3 div.sk-serial {display: flex;flex-direction: column;align-items: center;background-color: white;padding-right: 0.2em;padding-left: 0.2em;position: relative;}#sk-container-id-3 div.sk-item {position: relative;z-index: 1;}#sk-container-id-3 div.sk-parallel {display: flex;align-items: stretch;justify-content: center;background-color: white;position: relative;}#sk-container-id-3 div.sk-item::before, #sk-container-id-3 div.sk-parallel-item::before {content: \"\";position: absolute;border-left: 1px solid gray;box-sizing: border-box;top: 0;bottom: 0;left: 50%;z-index: -1;}#sk-container-id-3 div.sk-parallel-item {display: flex;flex-direction: column;z-index: 1;position: relative;background-color: white;}#sk-container-id-3 div.sk-parallel-item:first-child::after {align-self: flex-end;width: 50%;}#sk-container-id-3 div.sk-parallel-item:last-child::after {align-self: flex-start;width: 50%;}#sk-container-id-3 div.sk-parallel-item:only-child::after {width: 0;}#sk-container-id-3 div.sk-dashed-wrapped {border: 1px dashed gray;margin: 0 0.4em 0.5em 0.4em;box-sizing: border-box;padding-bottom: 0.4em;background-color: white;}#sk-container-id-3 div.sk-label label {font-family: monospace;font-weight: bold;display: inline-block;line-height: 1.2em;}#sk-container-id-3 div.sk-label-container {text-align: center;}#sk-container-id-3 div.sk-container {/* jupyter's `normalize.less` sets `[hidden] { display: none; }` but bootstrap.min.css set `[hidden] { display: none !important; }` so we also need the `!important` here to be able to override the default hidden behavior on the sphinx rendered scikit-learn.org. See: https://github.com/scikit-learn/scikit-learn/issues/21755 */display: inline-block !important;position: relative;}#sk-container-id-3 div.sk-text-repr-fallback {display: none;}</style><div id=\"sk-container-id-3\" class=\"sk-top-container\"><div class=\"sk-text-repr-fallback\"><pre>DecisionTreeClassifier(random_state=16)</pre><b>In a Jupyter environment, please rerun this cell to show the HTML representation or trust the notebook. <br />On GitHub, the HTML representation is unable to render, please try loading this page with nbviewer.org.</b></div><div class=\"sk-container\" hidden><div class=\"sk-item\"><div class=\"sk-estimator sk-toggleable\"><input class=\"sk-toggleable__control sk-hidden--visually\" id=\"sk-estimator-id-3\" type=\"checkbox\" checked><label for=\"sk-estimator-id-3\" class=\"sk-toggleable__label sk-toggleable__label-arrow\">DecisionTreeClassifier</label><div class=\"sk-toggleable__content\"><pre>DecisionTreeClassifier(random_state=16)</pre></div></div></div></div></div>"
      ],
      "text/plain": [
       "DecisionTreeClassifier(random_state=16)"
      ]
     },
     "execution_count": 97,
     "metadata": {},
     "output_type": "execute_result"
    }
   ],
   "source": [
    "toy_tree.fit(X_train_toy, y_train_toy)"
   ]
  },
  {
   "cell_type": "code",
   "execution_count": 98,
   "id": "502b337f",
   "metadata": {
    "deletable": false,
    "editable": false
   },
   "outputs": [
    {
     "name": "stderr",
     "output_type": "stream",
     "text": [
      "/Users/yilianzhao/opt/anaconda3/envs/cpsc330/lib/python3.10/site-packages/nbformat/__init__.py:93: MissingIDFieldWarning: Code cell is missing an id field, this will become a hard error in future nbformat versions. You may want to use `normalize()` on your notebooks before validations (available since nbformat 5.1.4). Previous versions of nbformat are fixing this issue transparently, and will stop doing so in the future.\n",
      "  validate(nb)\n"
     ]
    },
    {
     "data": {
      "text/html": [
       "<p><strong><pre style='display: inline;'>q2.4</pre></strong> passed! 💯</p>"
      ],
      "text/plain": [
       "q2.4 results: All test cases passed!"
      ]
     },
     "execution_count": 98,
     "metadata": {},
     "output_type": "execute_result"
    }
   ],
   "source": [
    "grader.check(\"q2.4\")"
   ]
  },
  {
   "cell_type": "markdown",
   "id": "29e942dd-d172-4d14-a31b-43f3b8613136",
   "metadata": {},
   "source": [
    "<br><br>"
   ]
  },
  {
   "cell_type": "markdown",
   "id": "253d6ae0-8a8c-44ad-ba5a-c0d6ad1b7adc",
   "metadata": {
    "deletable": false,
    "editable": false,
    "tags": []
   },
   "source": [
    "### 2.5 Visualizing the trained decision tree\n",
    "rubric={autograde}\n",
    "\n",
    "**Your tasks:**\n",
    "<br>Visualize the trained decision tree model using the [`tree.plot`](https://scikit-learn.org/stable/modules/generated/sklearn.tree.plot_tree.html) method in `sklearn` by passing appropriate values for the following arguments: \n",
    "- `feature_names`\n",
    "- `class_names`\n",
    "  \n",
    "Save the visualization tree returned by the function below in a variable called `toy_tree_viz`."
   ]
  },
  {
   "cell_type": "code",
   "execution_count": 99,
   "metadata": {},
   "outputs": [
    {
     "data": {
      "text/html": [
       "<div>\n",
       "<style scoped>\n",
       "    .dataframe tbody tr th:only-of-type {\n",
       "        vertical-align: middle;\n",
       "    }\n",
       "\n",
       "    .dataframe tbody tr th {\n",
       "        vertical-align: top;\n",
       "    }\n",
       "\n",
       "    .dataframe thead th {\n",
       "        text-align: right;\n",
       "    }\n",
       "</style>\n",
       "<table border=\"1\" class=\"dataframe\">\n",
       "  <thead>\n",
       "    <tr style=\"text-align: right;\">\n",
       "      <th></th>\n",
       "      <th>supportive_colleagues</th>\n",
       "      <th>work_hour_flexibility</th>\n",
       "      <th>start_up</th>\n",
       "    </tr>\n",
       "  </thead>\n",
       "  <tbody>\n",
       "    <tr>\n",
       "      <th>0</th>\n",
       "      <td>1</td>\n",
       "      <td>1</td>\n",
       "      <td>1</td>\n",
       "    </tr>\n",
       "    <tr>\n",
       "      <th>1</th>\n",
       "      <td>1</td>\n",
       "      <td>1</td>\n",
       "      <td>0</td>\n",
       "    </tr>\n",
       "    <tr>\n",
       "      <th>2</th>\n",
       "      <td>1</td>\n",
       "      <td>0</td>\n",
       "      <td>1</td>\n",
       "    </tr>\n",
       "    <tr>\n",
       "      <th>3</th>\n",
       "      <td>0</td>\n",
       "      <td>1</td>\n",
       "      <td>0</td>\n",
       "    </tr>\n",
       "    <tr>\n",
       "      <th>4</th>\n",
       "      <td>0</td>\n",
       "      <td>1</td>\n",
       "      <td>1</td>\n",
       "    </tr>\n",
       "    <tr>\n",
       "      <th>5</th>\n",
       "      <td>1</td>\n",
       "      <td>0</td>\n",
       "      <td>0</td>\n",
       "    </tr>\n",
       "    <tr>\n",
       "      <th>6</th>\n",
       "      <td>1</td>\n",
       "      <td>1</td>\n",
       "      <td>0</td>\n",
       "    </tr>\n",
       "    <tr>\n",
       "      <th>7</th>\n",
       "      <td>0</td>\n",
       "      <td>0</td>\n",
       "      <td>1</td>\n",
       "    </tr>\n",
       "    <tr>\n",
       "      <th>8</th>\n",
       "      <td>1</td>\n",
       "      <td>0</td>\n",
       "      <td>1</td>\n",
       "    </tr>\n",
       "    <tr>\n",
       "      <th>9</th>\n",
       "      <td>0</td>\n",
       "      <td>0</td>\n",
       "      <td>0</td>\n",
       "    </tr>\n",
       "  </tbody>\n",
       "</table>\n",
       "</div>"
      ],
      "text/plain": [
       "   supportive_colleagues  work_hour_flexibility  start_up\n",
       "0                      1                      1         1\n",
       "1                      1                      1         0\n",
       "2                      1                      0         1\n",
       "3                      0                      1         0\n",
       "4                      0                      1         1\n",
       "5                      1                      0         0\n",
       "6                      1                      1         0\n",
       "7                      0                      0         1\n",
       "8                      1                      0         1\n",
       "9                      0                      0         0"
      ]
     },
     "execution_count": 99,
     "metadata": {},
     "output_type": "execute_result"
    }
   ],
   "source": [
    "X_train_toy"
   ]
  },
  {
   "cell_type": "code",
   "execution_count": 100,
   "id": "1bd7ac8b",
   "metadata": {},
   "outputs": [
    {
     "data": {
      "text/plain": [
       "['supportive_colleagues', 'work_hour_flexibility', 'start_up']"
      ]
     },
     "execution_count": 100,
     "metadata": {},
     "output_type": "execute_result"
    }
   ],
   "source": [
    "X_train_toy.columns.to_list()"
   ]
  },
  {
   "cell_type": "markdown",
   "id": "ab2a12b6-d490-4b7f-b150-de8e1ef51e99",
   "metadata": {
    "deletable": false,
    "editable": false
   },
   "source": [
    "<div class=\"alert alert-warning\">\n",
    "\n",
    "Solution_2.5\n",
    "    \n",
    "</div>\n",
    "\n",
    "_Points:_ 1"
   ]
  },
  {
   "cell_type": "code",
   "execution_count": 101,
   "id": "9ed70e3b-277f-4494-b017-49d4ca3c70b2",
   "metadata": {
    "tags": []
   },
   "outputs": [
    {
     "data": {
      "text/plain": [
       "Ellipsis"
      ]
     },
     "execution_count": 101,
     "metadata": {},
     "output_type": "execute_result"
    },
    {
     "data": {
      "image/png": "[encoded data removed]",
      "text/plain": [
       "<Figure size 640x480 with 1 Axes>"
      ]
     },
     "metadata": {},
     "output_type": "display_data"
    }
   ],
   "source": [
    "feature_names = ['supportive_colleagues', 'work_hour_flexibility', 'start_up']\n",
    "class_names = ['happy', 'unhappy']\n",
    "\n",
    "toy_tree_viz = plot_tree(toy_tree,\n",
    "                         feature_names=feature_names,\n",
    "                         class_names=class_names,\n",
    "                         filled=True\n",
    ")\n",
    "\n",
    "\n",
    "..."
   ]
  },
  {
   "cell_type": "code",
   "execution_count": 102,
   "id": "55a5582f",
   "metadata": {
    "deletable": false,
    "editable": false
   },
   "outputs": [
    {
     "name": "stderr",
     "output_type": "stream",
     "text": [
      "/Users/yilianzhao/opt/anaconda3/envs/cpsc330/lib/python3.10/site-packages/nbformat/__init__.py:93: MissingIDFieldWarning: Code cell is missing an id field, this will become a hard error in future nbformat versions. You may want to use `normalize()` on your notebooks before validations (available since nbformat 5.1.4). Previous versions of nbformat are fixing this issue transparently, and will stop doing so in the future.\n",
      "  validate(nb)\n"
     ]
    },
    {
     "data": {
      "text/html": [
       "<p><strong><pre style='display: inline;'>q2.5</pre></strong> passed! 🌟</p>"
      ],
      "text/plain": [
       "q2.5 results: All test cases passed!"
      ]
     },
     "execution_count": 102,
     "metadata": {},
     "output_type": "execute_result"
    }
   ],
   "source": [
    "grader.check(\"q2.5\")"
   ]
  },
  {
   "cell_type": "markdown",
   "id": "c9e15dea-0513-4627-8d02-7f280fd11d41",
   "metadata": {},
   "source": [
    "<br><br>"
   ]
  },
  {
   "cell_type": "markdown",
   "id": "508da87a-0a75-4b60-bd5c-24dc5d837748",
   "metadata": {
    "deletable": false,
    "editable": false,
    "tags": []
   },
   "source": [
    "### Exercise 2.6 Depth of the tree\n",
    "rubric={autograde}\n",
    "\n",
    "**Your tasks:**\n",
    "<br>What's the depth of the learned decision tree model? Save it as an integer in the variable `toy_depth` below. "
   ]
  },
  {
   "cell_type": "markdown",
   "id": "1810fb16-dcaf-4f46-9a38-45ccdf68a5a5",
   "metadata": {
    "deletable": false,
    "editable": false
   },
   "source": [
    "<div class=\"alert alert-warning\">\n",
    "\n",
    "Solution_2.6\n",
    "    \n",
    "</div>\n",
    "\n",
    "_Points:_ 1"
   ]
  },
  {
   "cell_type": "code",
   "execution_count": 103,
   "id": "5b620371-7e65-4e32-bfc9-cf737278bb90",
   "metadata": {
    "scrolled": true,
    "tags": []
   },
   "outputs": [
    {
     "name": "stdout",
     "output_type": "stream",
     "text": [
      "3\n"
     ]
    },
    {
     "data": {
      "text/plain": [
       "Ellipsis"
      ]
     },
     "execution_count": 103,
     "metadata": {},
     "output_type": "execute_result"
    }
   ],
   "source": [
    "toy_depth = toy_tree.tree_.max_depth\n",
    "print(toy_depth)\n",
    "\n",
    "..."
   ]
  },
  {
   "cell_type": "code",
   "execution_count": 104,
   "id": "4506daff",
   "metadata": {
    "deletable": false,
    "editable": false
   },
   "outputs": [
    {
     "data": {
      "text/html": [
       "<p><strong><pre style='display: inline;'>q2.</pre></strong> passed! ✨</p>"
      ],
      "text/plain": [
       "q2. results: All test cases passed!"
      ]
     },
     "execution_count": 104,
     "metadata": {},
     "output_type": "execute_result"
    }
   ],
   "source": [
    "grader.check(\"q2.\")"
   ]
  },
  {
   "cell_type": "markdown",
   "id": "fbf8f6ea-3648-4195-b59a-ab7f2b33262b",
   "metadata": {},
   "source": [
    "<br><br>"
   ]
  },
  {
   "cell_type": "markdown",
   "id": "6fefaa37-ac79-45b5-a18d-08a3c6b393a2",
   "metadata": {
    "deletable": false,
    "editable": false,
    "tags": []
   },
   "source": [
    "### Exercise 2.7 Accuracy calculation\n",
    "rubric={autograde}\n",
    "\n",
    "**Your tasks:**\n",
    "<br>Evaluate the `toy_tree` on the training data (i.e., call `score()` on `X_train_toy` and `y_train_toy`) and store the score in a variable called `train_acc`."
   ]
  },
  {
   "cell_type": "markdown",
   "id": "73ba8cce-3692-40b0-a53f-35863ed1505d",
   "metadata": {
    "deletable": false,
    "editable": false
   },
   "source": [
    "<div class=\"alert alert-warning\">\n",
    "\n",
    "Solution_2.7\n",
    "    \n",
    "</div>\n",
    "\n",
    "_Points:_ 1"
   ]
  },
  {
   "cell_type": "code",
   "execution_count": 105,
   "id": "4d6831e7-1fc9-4217-b60a-e6df47f451ec",
   "metadata": {
    "scrolled": true,
    "tags": []
   },
   "outputs": [
    {
     "name": "stdout",
     "output_type": "stream",
     "text": [
      "0.9\n"
     ]
    },
    {
     "data": {
      "text/plain": [
       "Ellipsis"
      ]
     },
     "execution_count": 105,
     "metadata": {},
     "output_type": "execute_result"
    }
   ],
   "source": [
    "train_acc = toy_tree.score(X_train_toy, y_train_toy)\n",
    "print(train_acc)\n",
    "\n",
    "..."
   ]
  },
  {
   "cell_type": "code",
   "execution_count": 106,
   "id": "336c1fd3",
   "metadata": {
    "deletable": false,
    "editable": false
   },
   "outputs": [
    {
     "name": "stderr",
     "output_type": "stream",
     "text": [
      "/Users/yilianzhao/opt/anaconda3/envs/cpsc330/lib/python3.10/site-packages/nbformat/__init__.py:93: MissingIDFieldWarning: Code cell is missing an id field, this will become a hard error in future nbformat versions. You may want to use `normalize()` on your notebooks before validations (available since nbformat 5.1.4). Previous versions of nbformat are fixing this issue transparently, and will stop doing so in the future.\n",
      "  validate(nb)\n"
     ]
    },
    {
     "data": {
      "text/html": [
       "<p><strong><pre style='display: inline;'>q2.7</pre></strong> passed! ✨</p>"
      ],
      "text/plain": [
       "q2.7 results: All test cases passed!"
      ]
     },
     "execution_count": 106,
     "metadata": {},
     "output_type": "execute_result"
    }
   ],
   "source": [
    "grader.check(\"q2.7\")"
   ]
  },
  {
   "cell_type": "markdown",
   "id": "53c00496-3d7a-4311-83ee-31ee4e2285a7",
   "metadata": {
    "tags": []
   },
   "source": [
    "<br><br>"
   ]
  },
  {
   "cell_type": "markdown",
   "id": "41fe1526-cf75-4f4b-b19e-2a583b0f5fd5",
   "metadata": {
    "tags": []
   },
   "source": [
    "### (Optional) Discussion\n",
    "<br>Do you get perfect training accuracy? Why or why not? "
   ]
  },
  {
   "cell_type": "markdown",
   "id": "1eb9067f-08db-4d05-98fe-b33715fdf14c",
   "metadata": {},
   "source": [
    "<br><br>"
   ]
  },
  {
   "cell_type": "markdown",
   "id": "d3e211f4-3c94-48ae-8885-50482b32ac94",
   "metadata": {
    "deletable": false,
    "editable": false,
    "tags": []
   },
   "source": [
    "### Exercise 2.8 Predicting on the offer data\n",
    "rubric={autograde}\n",
    "\n",
    "Recall that our goal is to predict in which jobs you are likely to be happy. The `offer_df` dataframe below has all the job offers you have received. \n",
    "\n",
    "**Your tasks:**\n",
    "</br>Using the trained decision tree above, predict the targets for all examples in `offer_df` and store them as a list in the `predictions` variable below. In which jobs you are likely to be happy? Add index(es) of all examples where you are likely to be happy to the `happy_job_indices` list below."
   ]
  },
  {
   "cell_type": "code",
   "execution_count": 107,
   "id": "95511ccc-546e-4c72-a7a1-1e44e3c5df00",
   "metadata": {
    "deletable": false,
    "editable": false
   },
   "outputs": [
    {
     "data": {
      "text/html": [
       "<div>\n",
       "<style scoped>\n",
       "    .dataframe tbody tr th:only-of-type {\n",
       "        vertical-align: middle;\n",
       "    }\n",
       "\n",
       "    .dataframe tbody tr th {\n",
       "        vertical-align: top;\n",
       "    }\n",
       "\n",
       "    .dataframe thead th {\n",
       "        text-align: right;\n",
       "    }\n",
       "</style>\n",
       "<table border=\"1\" class=\"dataframe\">\n",
       "  <thead>\n",
       "    <tr style=\"text-align: right;\">\n",
       "      <th></th>\n",
       "      <th>supportive_colleagues</th>\n",
       "      <th>work_hour_flexibility</th>\n",
       "      <th>start_up</th>\n",
       "    </tr>\n",
       "  </thead>\n",
       "  <tbody>\n",
       "    <tr>\n",
       "      <th>0</th>\n",
       "      <td>1</td>\n",
       "      <td>0</td>\n",
       "      <td>0</td>\n",
       "    </tr>\n",
       "    <tr>\n",
       "      <th>1</th>\n",
       "      <td>0</td>\n",
       "      <td>0</td>\n",
       "      <td>1</td>\n",
       "    </tr>\n",
       "    <tr>\n",
       "      <th>2</th>\n",
       "      <td>0</td>\n",
       "      <td>1</td>\n",
       "      <td>1</td>\n",
       "    </tr>\n",
       "    <tr>\n",
       "      <th>3</th>\n",
       "      <td>1</td>\n",
       "      <td>1</td>\n",
       "      <td>1</td>\n",
       "    </tr>\n",
       "  </tbody>\n",
       "</table>\n",
       "</div>"
      ],
      "text/plain": [
       "   supportive_colleagues  work_hour_flexibility  start_up\n",
       "0                      1                      0         0\n",
       "1                      0                      0         1\n",
       "2                      0                      1         1\n",
       "3                      1                      1         1"
      ]
     },
     "execution_count": 107,
     "metadata": {},
     "output_type": "execute_result"
    }
   ],
   "source": [
    "offer_df"
   ]
  },
  {
   "cell_type": "code",
   "execution_count": 124,
   "id": "03fd31c6",
   "metadata": {},
   "outputs": [
    {
     "data": {
      "text/plain": [
       "['happy', 'unhappy', 'unhappy', 'happy']"
      ]
     },
     "execution_count": 124,
     "metadata": {},
     "output_type": "execute_result"
    }
   ],
   "source": [
    "toy_tree.predict(offer_df).tolist()"
   ]
  },
  {
   "cell_type": "markdown",
   "id": "29f3294d-ad90-4d0f-a8d2-919fbb0261de",
   "metadata": {
    "deletable": false,
    "editable": false
   },
   "source": [
    "<div class=\"alert alert-warning\">\n",
    "\n",
    "Solution_2.8\n",
    "    \n",
    "</div>\n",
    "\n",
    "_Points:_ 2"
   ]
  },
  {
   "cell_type": "code",
   "execution_count": 129,
   "id": "f3b56c3f-f7e5-4028-bf6a-5ea2a6ea9bf8",
   "metadata": {
    "scrolled": true,
    "tags": []
   },
   "outputs": [
    {
     "data": {
      "text/plain": [
       "Ellipsis"
      ]
     },
     "execution_count": 129,
     "metadata": {},
     "output_type": "execute_result"
    }
   ],
   "source": [
    "predictions = toy_tree.predict(offer_df).tolist()\n",
    "happy_job_indices = [0, 3]\n",
    "\n",
    "..."
   ]
  },
  {
   "cell_type": "code",
   "execution_count": 130,
   "id": "fc5b4e93",
   "metadata": {
    "deletable": false,
    "editable": false
   },
   "outputs": [
    {
     "name": "stderr",
     "output_type": "stream",
     "text": [
      "/Users/yilianzhao/opt/anaconda3/envs/cpsc330/lib/python3.10/site-packages/nbformat/__init__.py:93: MissingIDFieldWarning: Code cell is missing an id field, this will become a hard error in future nbformat versions. You may want to use `normalize()` on your notebooks before validations (available since nbformat 5.1.4). Previous versions of nbformat are fixing this issue transparently, and will stop doing so in the future.\n",
      "  validate(nb)\n"
     ]
    },
    {
     "data": {
      "text/html": [
       "<p><strong><pre style='display: inline;'>q2.8</pre></strong> passed! 🙌</p>"
      ],
      "text/plain": [
       "q2.8 results: All test cases passed!"
      ]
     },
     "execution_count": 130,
     "metadata": {},
     "output_type": "execute_result"
    }
   ],
   "source": [
    "grader.check(\"q2.8\")"
   ]
  },
  {
   "cell_type": "markdown",
   "id": "323230e6-c4ef-4189-9f41-8008853215ff",
   "metadata": {},
   "source": [
    "<br><br><br><br>"
   ]
  },
  {
   "cell_type": "markdown",
   "id": "a53f125a-dd4a-42af-a80e-adbb5598447f",
   "metadata": {
    "tags": []
   },
   "source": [
    "## Playground: Housing price prediction with decision tree models in Sunny California\n",
    "\n",
    "**This exercise is for exploration purposes only and does not carry any points.** \n",
    "\n",
    "In our previous exercise, we used Decision Trees for a classification task with our toy dataset. However, it's important to note that Decision Trees aren't confined solely to classification tasks; they are equally valuable when tackling regression problems.\n",
    "\n",
    "<br>In this interactive session, we will address a regression task using the 'California housing dataset.' This dataset comprises real-world housing data from California, including features such as median income, housing average age, and more. Our objective is to use a Decision Tree Regressor to make predictions about the median house value based on the available features.\n",
    "\n",
    "We will experiment with varying the depth of our Decision Tree to observe its impact on the model. You will witness how adjustments to the Decision Tree's complexity influence its decision boundaries. However, in this instance, our focus shifts to predicting a continuous value (median house value), as opposed to dealing with discrete classes ('happy' or 'unhappy')\n",
    "\n",
    "**Your tasks:**\n",
    "<br>Use the interactive slider to investigate various depths for the Decision Tree and take note of the resulting changes in the model's score and the tree's complexity. Enjoy exploring the flexibility and adaptability of Decision Trees!\n",
    "\n",
    "If you want to get it working locally, you'll have to install the following packages. \n",
    "\n",
    "- In CPSC 330 environment, install\n",
    "    - `conda install -c conda-forge panel` or `pip install panel`\n",
    "    - `conda install -n cpsc330 -c conda-forge ipywidgets`\n",
    "    \n",
    "- Assuming that your Jupyter Lab is in the `base` environment, install `panel` and `jupyterlab_widgets` in that environment\n",
    "  - `conda install -n base -c conda-forge jupyterlab_widgets`\n",
    "  - `conda install -n base -c conda-forge panel`\n",
    "    "
   ]
  },
  {
   "cell_type": "code",
   "execution_count": 110,
   "id": "60f1fbc4-bf7d-4abb-a97b-90b83e076836",
   "metadata": {
    "metadata": {
     "tags": [
      "otter_ignore"
     ]
    }
   },
   "outputs": [
    {
     "ename": "ModuleNotFoundError",
     "evalue": "No module named 'panel'",
     "output_type": "error",
     "traceback": [
      "\u001b[0;31m---------------------------------------------------------------------------\u001b[0m",
      "\u001b[0;31mModuleNotFoundError\u001b[0m                       Traceback (most recent call last)",
      "Cell \u001b[0;32mIn[110], line 1\u001b[0m\n\u001b[0;32m----> 1\u001b[0m \u001b[39mimport\u001b[39;00m \u001b[39mpanel\u001b[39;00m \u001b[39mas\u001b[39;00m \u001b[39mpn\u001b[39;00m\n\u001b[1;32m      2\u001b[0m \u001b[39mfrom\u001b[39;00m \u001b[39mpanel\u001b[39;00m \u001b[39mimport\u001b[39;00m widgets\n\u001b[1;32m      3\u001b[0m \u001b[39mfrom\u001b[39;00m \u001b[39mpanel\u001b[39;00m\u001b[39m.\u001b[39;00m\u001b[39minteract\u001b[39;00m \u001b[39mimport\u001b[39;00m interact\n",
      "\u001b[0;31mModuleNotFoundError\u001b[0m: No module named 'panel'"
     ]
    }
   ],
   "source": [
    "import panel as pn\n",
    "from panel import widgets\n",
    "from panel.interact import interact\n",
    "import matplotlib\n",
    "\n",
    "pn.extension()\n",
    "\n",
    "from sklearn.datasets import fetch_california_housing\n",
    "\n",
    "cal = fetch_california_housing()\n",
    "X_reg = cal.data\n",
    "y_reg = cal.target\n",
    "\n",
    "# Define a function to train a DecisionTreeRegressor with variable depth\n",
    "\n",
    "def plot_depth_regression(depth):\n",
    "    plt.clf()\n",
    "    height_scale=5;width_scale=6\n",
    "    reg_tree = DecisionTreeRegressor(max_depth=depth, random_state=42)\n",
    "    reg_tree.fit(X_reg, y_reg)\n",
    "    score = reg_tree.score(X_reg, y_reg)\n",
    "    width = min(35, depth * 6)\n",
    "    height = min(20, depth * 5 )\n",
    "    fontsize = 11 - depth\n",
    "    fig = plt.figure(figsize=(width, height))    \n",
    "    plot_tree(reg_tree, feature_names=cal['feature_names'], fontsize = fontsize, filled=True)\n",
    "    plt.title(f\"Regression Tree Score: {score:.2f}\", fontsize=14)        \n",
    "    return fig\n",
    "\n",
    "depth_selector = pn.widgets.IntSlider(name='depth', start=1, end=10, value=1)\n",
    "pn.interact(plot_depth_regression, depth=depth_selector)\n",
    "#pn.interact(f, depth=depth_selector).embed(max_opts=10)"
   ]
  },
  {
   "cell_type": "markdown",
   "id": "5a34af0d-efb9-4b39-ab96-abab1047e49c",
   "metadata": {},
   "source": [
    "![](img/eva-well-done.png)"
   ]
  }
 ],
 "metadata": {
  "kernelspec": {
   "display_name": "cpsc330",
   "language": "python",
   "name": "python3"
  },
  "language_info": {
   "codemirror_mode": {
    "name": "ipython",
    "version": 3
   },
   "file_extension": ".py",
   "mimetype": "text/x-python",
   "name": "python",
   "nbconvert_exporter": "python",
   "pygments_lexer": "ipython3",
   "version": "3.10.0"
  },
  "otter": {
   "OK_FORMAT": true,
   "tests": {
    "q1.1": {
     "name": "q1.1",
     "points": 3,
     "suites": [
      {
       "cases": [
        {
         "code": ">>> assert len(terminology) == 5, \"Please answer all the 4 questions.\"\n>>> assert sha1(''.join(terminology).encode(\"utf-8\").lower()).hexdigest() == '24ebc14140161ec925b8095832f2be7dfa63beb7', \"Your answers do not match the expected solution. Please try again.\"\n",
         "hidden": false,
         "locked": false
        }
       ],
       "scored": true,
       "setup": "",
       "teardown": "",
       "type": "doctest"
      }
     ]
    },
    "q2.": {
     "name": "q2.",
     "points": 1,
     "suites": [
      {
       "cases": [
        {
         "code": ">>> assert not toy_depth is None, \"Are you using the provided variable?\"\n>>> assert (sha1(str(toy_depth).encode(\"utf-8\")).hexdigest() == \"77de68daecd823babbb58edb1c8e14d7106e83bb\"), \"The depth is incorrect\"\n",
         "hidden": false,
         "locked": false
        }
       ],
       "scored": true,
       "setup": "",
       "teardown": "",
       "type": "doctest"
      }
     ]
    },
    "q2.1": {
     "name": "q2.1",
     "points": 1,
     "suites": [
      {
       "cases": [
        {
         "code": ">>> assert not supportive_colleagues_acc is None, \"Are you setting the provided variable?\"\n>>> assert (\n...     sha1(str(supportive_colleagues_acc).encode(\"utf8\")).hexdigest() == \"1469842b4307d36cccb487dc989f21016daadbcc\"), \"Your answer is incorrect, see traceback above.\"\n",
         "hidden": false,
         "locked": false
        }
       ],
       "scored": true,
       "setup": "",
       "teardown": "",
       "type": "doctest"
      }
     ]
    },
    "q2.2": {
     "name": "q2.2",
     "points": 1,
     "suites": [
      {
       "cases": [
        {
         "code": ">>> assert not X_train_toy is None, \"Are you using the correct variable?\"\n>>> assert not y_train_toy is None, \"Are you using the correct variable?\"\n>>> assert X_train_toy.shape == (10, 3), \"X_train_toy shape is incorrect\"\n>>> assert y_train_toy.shape == (10,), \"y_train_toy shape is incorrect\"\n",
         "hidden": false,
         "locked": false
        }
       ],
       "scored": true,
       "setup": "",
       "teardown": "",
       "type": "doctest"
      }
     ]
    },
    "q2.3": {
     "name": "q2.3",
     "points": 1,
     "suites": [
      {
       "cases": [
        {
         "code": ">>> assert isinstance(toy_tree, DecisionTreeClassifier), \"DecisionTreeClassifier was not created properly\"\n>>> assert (toy_tree.get_params().get(\"random_state\") == 16), \"Please set the random state to 16\"\n",
         "hidden": false,
         "locked": false
        }
       ],
       "scored": true,
       "setup": "",
       "teardown": "",
       "type": "doctest"
      }
     ]
    },
    "q2.4": {
     "name": "q2.4",
     "points": 1,
     "suites": [
      {
       "cases": [
        {
         "code": ">>> assert toy_tree.get_depth() in range(2, 4, 1), \"DecisionTreeClassifier was not fitted properly\"\n>>> assert toy_tree.get_n_leaves() in range(3, 5, 1), \"DecisionTreeClassifier was not fitted properly\"\n",
         "hidden": false,
         "locked": false
        }
       ],
       "scored": true,
       "setup": "",
       "teardown": "",
       "type": "doctest"
      }
     ]
    },
    "q2.5": {
     "name": "q2.5",
     "points": 1,
     "suites": [
      {
       "cases": [
        {
         "code": ">>> assert not toy_tree_viz is None, \"Are you using the provided variable?\"\n>>> assert sha1(str(len(feature_names)).encode(\"utf-8\")).hexdigest() == '77de68daecd823babbb58edb1c8e14d7106e83bb', \"Are you passing the correct list of features?\"\n>>> assert sha1(str(sorted(list(class_names))).encode(\"utf-8\")).hexdigest() == '4621a7584156c08258ad22a7adc86667984d9382', \"Are you passing the correct list of classes?\"\n",
         "hidden": false,
         "locked": false
        }
       ],
       "scored": true,
       "setup": "",
       "teardown": "",
       "type": "doctest"
      }
     ]
    },
    "q2.7": {
     "name": "q2.7",
     "points": 1,
     "suites": [
      {
       "cases": [
        {
         "code": ">>> assert not train_acc is None, \"Are you using the provided train_acc variable?\"\n>>> assert (sha1(str(np.round(train_acc, 2)).encode(\"utf-8\")).hexdigest() == \"1469842b4307d36cccb487dc989f21016daadbcc\"), \"The score is incorrect\"\n",
         "hidden": false,
         "locked": false
        }
       ],
       "scored": true,
       "setup": "",
       "teardown": "",
       "type": "doctest"
      }
     ]
    },
    "q2.8": {
     "name": "q2.8",
     "points": [
      1,
      1
     ],
     "suites": [
      {
       "cases": [
        {
         "code": ">>> assert not predictions is None, \"Are you storing predictions in the provided variable predictions?\"\n>>> assert predictions.count(\"happy\") == 2, \"Your predictions do not look as expected.\"\n>>> assert predictions.count(\"unhappy\") == 2, \"Your predictions do not look as expected.\"\n",
         "hidden": false,
         "locked": false
        },
        {
         "code": ">>> assert not happy_job_indices is None, \"Are you storing the happy job indices in the provided variable?\"\n>>> assert len(happy_job_indices) == 2, \"The length of happy_job_indices list seems wrong. \"\n>>> assert sha1(str(sorted(happy_job_indices)).encode('utf-8')).hexdigest() == 'c48ac7e6c9a92c1a4160e3096f915d1651e6c18f', \"The happy job indices do not look correct.\"\n",
         "hidden": false,
         "locked": false
        }
       ],
       "scored": true,
       "setup": "",
       "teardown": "",
       "type": "doctest"
      }
     ]
    }
   }
  }
 },
 "nbformat": 4,
 "nbformat_minor": 5
}
